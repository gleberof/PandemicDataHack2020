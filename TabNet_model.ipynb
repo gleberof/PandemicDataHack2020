{
  "nbformat": 4,
  "nbformat_minor": 0,
  "metadata": {
    "colab": {
      "name": "TabNet_model.ipynb",
      "provenance": []
    },
    "kernelspec": {
      "name": "python3",
      "display_name": "Python 3"
    },
    "accelerator": "TPU"
  },
  "cells": [
    {
      "cell_type": "markdown",
      "metadata": {
        "id": "5hTi4nPGkqiE"
      },
      "source": [
        "## Обучение TabNet"
      ]
    },
    {
      "cell_type": "code",
      "metadata": {
        "colab": {
          "base_uri": "https://localhost:8080/"
        },
        "id": "WmYFeHE02Wey",
        "outputId": "954100bc-eb15-48ff-d130-9e408b064289"
      },
      "source": [
        "!pip install pytorch-tabnet neptune-client"
      ],
      "execution_count": 1,
      "outputs": [
        {
          "output_type": "stream",
          "text": [
            "Collecting pytorch-tabnet\n",
            "  Downloading https://files.pythonhosted.org/packages/44/dd/e24309700d20dfc75643d231a3093179652d309cefcadc338e1a20ff288e/pytorch_tabnet-3.0.0-py3-none-any.whl\n",
            "Collecting neptune-client\n",
            "\u001b[?25l  Downloading https://files.pythonhosted.org/packages/61/ff/41dc91c7012cf96d6f3ecc6e8fdfc84f4fec9e6749c6a4abff9cc82a7571/neptune-client-0.4.129.tar.gz (96kB)\n",
            "\u001b[K     |████████████████████████████████| 102kB 3.8MB/s \n",
            "\u001b[?25hRequirement already satisfied: torch<2.0,>=1.2 in /usr/local/lib/python3.6/dist-packages (from pytorch-tabnet) (1.7.0+cu101)\n",
            "Requirement already satisfied: numpy<2.0,>=1.17 in /usr/local/lib/python3.6/dist-packages (from pytorch-tabnet) (1.19.4)\n",
            "Requirement already satisfied: scikit_learn>0.21 in /usr/local/lib/python3.6/dist-packages (from pytorch-tabnet) (0.22.2.post1)\n",
            "Requirement already satisfied: scipy>1.4 in /usr/local/lib/python3.6/dist-packages (from pytorch-tabnet) (1.4.1)\n",
            "Requirement already satisfied: tqdm<5.0,>=4.36 in /usr/local/lib/python3.6/dist-packages (from pytorch-tabnet) (4.41.1)\n",
            "Collecting bravado\n",
            "  Downloading https://files.pythonhosted.org/packages/6d/3d/f8772d9295c03e08a9ab4afc1ccd195efe6cb4d1af3135b7f74eb8beb0d6/bravado-11.0.2-py2.py3-none-any.whl\n",
            "Requirement already satisfied: click>=7.0 in /usr/local/lib/python3.6/dist-packages (from neptune-client) (7.1.2)\n",
            "Collecting future>=0.17.1\n",
            "\u001b[?25l  Downloading https://files.pythonhosted.org/packages/45/0b/38b06fd9b92dc2b68d58b75f900e97884c45bedd2ff83203d933cf5851c9/future-0.18.2.tar.gz (829kB)\n",
            "\u001b[K     |████████████████████████████████| 829kB 8.1MB/s \n",
            "\u001b[?25hCollecting py3nvml\n",
            "\u001b[?25l  Downloading https://files.pythonhosted.org/packages/53/b3/cb30dd8cc1198ae3fdb5a320ca7986d7ca76e23d16415067eafebff8685f/py3nvml-0.2.6-py3-none-any.whl (55kB)\n",
            "\u001b[K     |████████████████████████████████| 61kB 4.8MB/s \n",
            "\u001b[?25hRequirement already satisfied: oauthlib>=2.1.0 in /usr/local/lib/python3.6/dist-packages (from neptune-client) (3.1.0)\n",
            "Requirement already satisfied: pandas in /usr/local/lib/python3.6/dist-packages (from neptune-client) (1.1.5)\n",
            "Requirement already satisfied: Pillow>=1.1.6 in /usr/local/lib/python3.6/dist-packages (from neptune-client) (7.0.0)\n",
            "Collecting PyJWT\n",
            "  Downloading https://files.pythonhosted.org/packages/87/8b/6a9f14b5f781697e51259d81657e6048fd31a113229cf346880bb7545565/PyJWT-1.7.1-py2.py3-none-any.whl\n",
            "Requirement already satisfied: requests>=2.20.0 in /usr/local/lib/python3.6/dist-packages (from neptune-client) (2.23.0)\n",
            "Requirement already satisfied: requests-oauthlib>=1.0.0 in /usr/local/lib/python3.6/dist-packages (from neptune-client) (1.3.0)\n",
            "Requirement already satisfied: six>=1.12.0 in /usr/local/lib/python3.6/dist-packages (from neptune-client) (1.15.0)\n",
            "Collecting websocket-client>=0.35.0\n",
            "\u001b[?25l  Downloading https://files.pythonhosted.org/packages/4c/5f/f61b420143ed1c8dc69f9eaec5ff1ac36109d52c80de49d66e0c36c3dfdf/websocket_client-0.57.0-py2.py3-none-any.whl (200kB)\n",
            "\u001b[K     |████████████████████████████████| 204kB 14.2MB/s \n",
            "\u001b[?25hCollecting GitPython>=2.0.8\n",
            "\u001b[?25l  Downloading https://files.pythonhosted.org/packages/24/d1/a7f8fe3df258549b303415157328bfcc63e9b11d06a7ad7a3327f3d32606/GitPython-3.1.11-py3-none-any.whl (159kB)\n",
            "\u001b[K     |████████████████████████████████| 163kB 17.6MB/s \n",
            "\u001b[?25hRequirement already satisfied: packaging in /usr/local/lib/python3.6/dist-packages (from neptune-client) (20.8)\n",
            "Requirement already satisfied: dataclasses in /usr/local/lib/python3.6/dist-packages (from torch<2.0,>=1.2->pytorch-tabnet) (0.8)\n",
            "Requirement already satisfied: typing-extensions in /usr/local/lib/python3.6/dist-packages (from torch<2.0,>=1.2->pytorch-tabnet) (3.7.4.3)\n",
            "Requirement already satisfied: joblib>=0.11 in /usr/local/lib/python3.6/dist-packages (from scikit_learn>0.21->pytorch-tabnet) (1.0.0)\n",
            "Collecting monotonic\n",
            "  Downloading https://files.pythonhosted.org/packages/ac/aa/063eca6a416f397bd99552c534c6d11d57f58f2e94c14780f3bbf818c4cf/monotonic-1.5-py2.py3-none-any.whl\n",
            "Requirement already satisfied: python-dateutil in /usr/local/lib/python3.6/dist-packages (from bravado->neptune-client) (2.8.1)\n",
            "Collecting simplejson\n",
            "\u001b[?25l  Downloading https://files.pythonhosted.org/packages/73/96/1e6b19045375890068d7342cbe280dd64ae73fd90b9735b5efb8d1e044a1/simplejson-3.17.2-cp36-cp36m-manylinux2010_x86_64.whl (127kB)\n",
            "\u001b[K     |████████████████████████████████| 133kB 18.3MB/s \n",
            "\u001b[?25hRequirement already satisfied: pyyaml in /usr/local/lib/python3.6/dist-packages (from bravado->neptune-client) (3.13)\n",
            "Requirement already satisfied: msgpack in /usr/local/lib/python3.6/dist-packages (from bravado->neptune-client) (1.0.1)\n",
            "Collecting bravado-core>=5.16.1\n",
            "\u001b[?25l  Downloading https://files.pythonhosted.org/packages/76/11/18e9d28a156c33f2d5f15a5e155dc7130250acb0a569255a2b6b307b596d/bravado_core-5.17.0-py2.py3-none-any.whl (67kB)\n",
            "\u001b[K     |████████████████████████████████| 71kB 4.3MB/s \n",
            "\u001b[?25hCollecting xmltodict\n",
            "  Downloading https://files.pythonhosted.org/packages/28/fd/30d5c1d3ac29ce229f6bdc40bbc20b28f716e8b363140c26eff19122d8a5/xmltodict-0.12.0-py2.py3-none-any.whl\n",
            "Requirement already satisfied: pytz>=2017.2 in /usr/local/lib/python3.6/dist-packages (from pandas->neptune-client) (2018.9)\n",
            "Requirement already satisfied: chardet<4,>=3.0.2 in /usr/local/lib/python3.6/dist-packages (from requests>=2.20.0->neptune-client) (3.0.4)\n",
            "Requirement already satisfied: certifi>=2017.4.17 in /usr/local/lib/python3.6/dist-packages (from requests>=2.20.0->neptune-client) (2020.12.5)\n",
            "Requirement already satisfied: idna<3,>=2.5 in /usr/local/lib/python3.6/dist-packages (from requests>=2.20.0->neptune-client) (2.10)\n",
            "Requirement already satisfied: urllib3!=1.25.0,!=1.25.1,<1.26,>=1.21.1 in /usr/local/lib/python3.6/dist-packages (from requests>=2.20.0->neptune-client) (1.24.3)\n",
            "Collecting gitdb<5,>=4.0.1\n",
            "\u001b[?25l  Downloading https://files.pythonhosted.org/packages/48/11/d1800bca0a3bae820b84b7d813ad1eff15a48a64caea9c823fc8c1b119e8/gitdb-4.0.5-py3-none-any.whl (63kB)\n",
            "\u001b[K     |████████████████████████████████| 71kB 4.8MB/s \n",
            "\u001b[?25hRequirement already satisfied: pyparsing>=2.0.2 in /usr/local/lib/python3.6/dist-packages (from packaging->neptune-client) (2.4.7)\n",
            "Collecting jsonref\n",
            "  Downloading https://files.pythonhosted.org/packages/07/92/f8e4ac824b14af77e613984e480fa818397c72d4141fc466decb26752749/jsonref-0.2-py3-none-any.whl\n",
            "Requirement already satisfied: jsonschema[format]>=2.5.1 in /usr/local/lib/python3.6/dist-packages (from bravado-core>=5.16.1->bravado->neptune-client) (2.6.0)\n",
            "Collecting swagger-spec-validator>=2.0.1\n",
            "  Downloading https://files.pythonhosted.org/packages/09/de/e78cefbf5838b434b63a789264b79821cb2267f1498fbed23ef8590133e4/swagger_spec_validator-2.7.3-py2.py3-none-any.whl\n",
            "Collecting smmap<4,>=3.0.1\n",
            "  Downloading https://files.pythonhosted.org/packages/b0/9a/4d409a6234eb940e6a78dfdfc66156e7522262f5f2fecca07dc55915952d/smmap-3.0.4-py2.py3-none-any.whl\n",
            "Collecting rfc3987; extra == \"format\"\n",
            "  Downloading https://files.pythonhosted.org/packages/65/d4/f7407c3d15d5ac779c3dd34fbbc6ea2090f77bd7dd12f207ccf881551208/rfc3987-1.3.8-py2.py3-none-any.whl\n",
            "Collecting webcolors; extra == \"format\"\n",
            "  Downloading https://files.pythonhosted.org/packages/12/05/3350559de9714b202e443a9e6312937341bd5f79f4e4f625744295e7dd17/webcolors-1.11.1-py3-none-any.whl\n",
            "Collecting strict-rfc3339; extra == \"format\"\n",
            "  Downloading https://files.pythonhosted.org/packages/56/e4/879ef1dbd6ddea1c77c0078cd59b503368b0456bcca7d063a870ca2119d3/strict-rfc3339-0.7.tar.gz\n",
            "Building wheels for collected packages: neptune-client, future, strict-rfc3339\n",
            "  Building wheel for neptune-client (setup.py) ... \u001b[?25l\u001b[?25hdone\n",
            "  Created wheel for neptune-client: filename=neptune_client-0.4.129-py2.py3-none-any.whl size=152627 sha256=aafb7effa327fa7a95e40ed005536f8aeb59ed5261041782f8a69457becc3571\n",
            "  Stored in directory: /root/.cache/pip/wheels/83/36/10/50fcc95c5ad563e8b5394819ba3accad734c2208be90919dab\n",
            "  Building wheel for future (setup.py) ... \u001b[?25l\u001b[?25hdone\n",
            "  Created wheel for future: filename=future-0.18.2-cp36-none-any.whl size=491057 sha256=b4e46c2fa113f95203b0f55d9a1bedf93f481998cb2192a354cde11dc774cbb6\n",
            "  Stored in directory: /root/.cache/pip/wheels/8b/99/a0/81daf51dcd359a9377b110a8a886b3895921802d2fc1b2397e\n",
            "  Building wheel for strict-rfc3339 (setup.py) ... \u001b[?25l\u001b[?25hdone\n",
            "  Created wheel for strict-rfc3339: filename=strict_rfc3339-0.7-cp36-none-any.whl size=18122 sha256=5b9f95923d62d54d967066bf92526f1cb0dd1806ce734f0822d63595d29dbb78\n",
            "  Stored in directory: /root/.cache/pip/wheels/bb/af/c9/b6e9fb5f9b2470e4ed2a7241c9ab3a8cdd3bc8555ae02ca2e6\n",
            "Successfully built neptune-client future strict-rfc3339\n",
            "Installing collected packages: pytorch-tabnet, monotonic, simplejson, jsonref, swagger-spec-validator, bravado-core, bravado, future, xmltodict, py3nvml, PyJWT, websocket-client, smmap, gitdb, GitPython, neptune-client, rfc3987, webcolors, strict-rfc3339\n",
            "  Found existing installation: future 0.16.0\n",
            "    Uninstalling future-0.16.0:\n",
            "      Successfully uninstalled future-0.16.0\n",
            "Successfully installed GitPython-3.1.11 PyJWT-1.7.1 bravado-11.0.2 bravado-core-5.17.0 future-0.18.2 gitdb-4.0.5 jsonref-0.2 monotonic-1.5 neptune-client-0.4.129 py3nvml-0.2.6 pytorch-tabnet-3.0.0 rfc3987-1.3.8 simplejson-3.17.2 smmap-3.0.4 strict-rfc3339-0.7 swagger-spec-validator-2.7.3 webcolors-1.11.1 websocket-client-0.57.0 xmltodict-0.12.0\n"
          ],
          "name": "stdout"
        }
      ]
    },
    {
      "cell_type": "code",
      "metadata": {
        "id": "DPSGhUyO2oXW"
      },
      "source": [
        "import os\n",
        "import numpy as np\n",
        "import torch\n",
        "import random\n",
        "import pickle\n",
        "\n",
        "from sklearn.model_selection import train_test_split\n",
        "from pytorch_tabnet.tab_model import TabNetRegressor\n",
        "import neptune"
      ],
      "execution_count": 2,
      "outputs": []
    },
    {
      "cell_type": "code",
      "metadata": {
        "colab": {
          "base_uri": "https://localhost:8080/"
        },
        "id": "uOtESLJZ21TF",
        "outputId": "eea00ff8-3a87-4aac-b3b9-9a1661a9d04f"
      },
      "source": [
        "seed = 42\n",
        "os.environ['PYTHONHASHSEED'] = str(seed)\n",
        "random.seed(seed)\n",
        "np.random.seed(seed)\n",
        "torch.manual_seed(seed)"
      ],
      "execution_count": 76,
      "outputs": [
        {
          "output_type": "execute_result",
          "data": {
            "text/plain": [
              "<torch._C.Generator at 0x7fa3d37bebd0>"
            ]
          },
          "metadata": {
            "tags": []
          },
          "execution_count": 76
        }
      ]
    },
    {
      "cell_type": "code",
      "metadata": {
        "id": "SXDdkcYC9Ild"
      },
      "source": [
        "salary = np.load('/content/drive/MyDrive/Colab Notebooks/Pandemic_data_hack/input/salary_scaled.npy')"
      ],
      "execution_count": 77,
      "outputs": []
    },
    {
      "cell_type": "code",
      "metadata": {
        "id": "EuynbEwh9Z_6"
      },
      "source": [
        "salary = salary.reshape(-1, 1)"
      ],
      "execution_count": 78,
      "outputs": []
    },
    {
      "cell_type": "markdown",
      "metadata": {
        "id": "RSMmgTvgk3BI"
      },
      "source": [
        "###Подгрузим наши индексы и массивы переменных"
      ]
    },
    {
      "cell_type": "code",
      "metadata": {
        "id": "lNVB5dF69bLU"
      },
      "source": [
        "X = np.concatenate((\n",
        "    np.load('/content/drive/MyDrive/Colab Notebooks/Pandemic_data_hack/input/responsibilities_vectors.npy'),\n",
        "    np.load('/content/drive/MyDrive/Colab Notebooks/Pandemic_data_hack/input/industry_label.npy'),\n",
        "    np.load('/content/drive/MyDrive/Colab Notebooks/Pandemic_data_hack/input/employement_type_label.npy'),\n",
        "    np.load('/content/drive/MyDrive/Colab Notebooks/Pandemic_data_hack/input/education_type_label.npy'),\n",
        "    np.load('/content/drive/MyDrive/Colab Notebooks/Pandemic_data_hack/input/cluster_label.npy')\n",
        "), axis=1)"
      ],
      "execution_count": 112,
      "outputs": []
    },
    {
      "cell_type": "code",
      "metadata": {
        "id": "rLngnjCGEfRt"
      },
      "source": [
        "#X = np.load('/content/drive/MyDrive/Colab Notebooks/Pandemic_data_hack/input/responsibilities_vectors.npy')"
      ],
      "execution_count": 98,
      "outputs": []
    },
    {
      "cell_type": "code",
      "metadata": {
        "id": "2SP164Pm-Dq2"
      },
      "source": [
        "import pandas as pd"
      ],
      "execution_count": 89,
      "outputs": []
    },
    {
      "cell_type": "code",
      "metadata": {
        "id": "_qopLxn99CTK"
      },
      "source": [
        "#X_df = pd.DataFrame({'responsibilities_vectors': X[:, 0], 'industry_label': X[:, 1]},\n",
        "#                    {'employement_type_label': X[:, 2], 'education_type_label': X[:, 3]},\n",
        "#                    {'cluster_label': X[:, 4]})"
      ],
      "execution_count": 91,
      "outputs": []
    },
    {
      "cell_type": "code",
      "metadata": {
        "id": "0omDv3eh-Chb"
      },
      "source": [
        "with open('/content/drive/MyDrive/Colab Notebooks/Pandemic_data_hack/input/industry2id.pickle', 'rb') as handle:\n",
        "    industry2id = pickle.load(handle)\n",
        "with open('/content/drive/MyDrive/Colab Notebooks/Pandemic_data_hack/input/employement_type2id.pickle', 'rb') as handle:\n",
        "    employement_type2id = pickle.load(handle)\n",
        "with open('/content/drive/MyDrive/Colab Notebooks/Pandemic_data_hack/input/cluster2id.pickle', 'rb') as handle:\n",
        "    cluster2id = pickle.load(handle)"
      ],
      "execution_count": 80,
      "outputs": []
    },
    {
      "cell_type": "code",
      "metadata": {
        "id": "tEnekqqy-61v"
      },
      "source": [
        "#cat_dims = [len(industry2id), len(employement_type2id), len(cluster2id),]"
      ],
      "execution_count": 81,
      "outputs": []
    },
    {
      "cell_type": "code",
      "metadata": {
        "colab": {
          "base_uri": "https://localhost:8080/"
        },
        "id": "QmiJxQcY_kwz",
        "outputId": "9b95fa50-a879-4100-c843-8358c76ba4cc"
      },
      "source": [
        "PARAMS = {\n",
        "    'description': 'TabNetL'\n",
        "}\n",
        "neptune.init('gleb-balchidi/pandemic-dh', api_token='eyJhcGlfYWRkcmVzcyI6Imh0dHBzOi8vdWkubmVwdHVuZS5haSIsImFwaV91cmwiOiJodHRwczovL3VpLm5lcHR1bmUuYWkiLCJhcGlfa2V5IjoiMGIzZWQ5MjktNjFlMS00ZjljLWIyMWEtYTc2M2RkMzJlZWVmIn0=')\n",
        "neptune.create_experiment(name='SalaryTabNet2',params=PARAMS)"
      ],
      "execution_count": 11,
      "outputs": [
        {
          "output_type": "stream",
          "text": [
            "https://ui.neptune.ai/gleb-balchidi/pandemic-dh/e/PAN-3\n"
          ],
          "name": "stdout"
        },
        {
          "output_type": "execute_result",
          "data": {
            "text/plain": [
              "Experiment(PAN-3)"
            ]
          },
          "metadata": {
            "tags": []
          },
          "execution_count": 11
        }
      ]
    },
    {
      "cell_type": "code",
      "metadata": {
        "colab": {
          "base_uri": "https://localhost:8080/"
        },
        "id": "rgfCybIrC6jh",
        "outputId": "db5d9a82-0b71-45a5-911b-19ee3b26a092"
      },
      "source": [
        "#инициализация модели\n",
        "clf = TabNetRegressor(\n",
        "    verbose=10,\n",
        "    optimizer_fn=torch.optim.AdamW,\n",
        "    optimizer_params=dict(lr=2e-2),\n",
        "    scheduler_params = {\"gamma\": 0.95,\n",
        "                     \"step_size\": 20},\n",
        "    scheduler_fn=torch.optim.lr_scheduler.StepLR, epsilon=1e-15,\n",
        "    seed=seed,\n",
        "    clip_value=2.,\n",
        "    #cat_idxs=[768, 769, 770, 771],\n",
        "    #cat_dims=cat_dims,\n",
        "    #cat_emb_dim=[1, 1, 1, 100],\n",
        "\n",
        "    n_d=64,\n",
        "    n_a=64,\n",
        "    n_steps=5,\n",
        "    gamma=1.5,\n",
        "    n_independent=2,\n",
        "    n_shared=2,\n",
        "    lambda_sparse=1e-4,\n",
        "    momentum=0.3,\n",
        "    \n",
        ")"
      ],
      "execution_count": 113,
      "outputs": [
        {
          "output_type": "stream",
          "text": [
            "Device used : cpu\n"
          ],
          "name": "stdout"
        }
      ]
    },
    {
      "cell_type": "code",
      "metadata": {
        "colab": {
          "base_uri": "https://localhost:8080/"
        },
        "id": "7e5_eK9tDLu2",
        "outputId": "022b9a37-807a-4fbd-adea-ca080d3655f1"
      },
      "source": [
        "clf.fit(\n",
        "    X[:245016],\n",
        "    salary[:245016],\n",
        "    eval_set=[(X[245016:], salary[245016:])],\n",
        "    max_epochs=10,\n",
        "    loss_fn=torch.nn.L1Loss(),\n",
        "    batch_size=5104,\n",
        "    virtual_batch_size=256,\n",
        "    patience=200,\n",
        "    drop_last=False,\n",
        "    )"
      ],
      "execution_count": 170,
      "outputs": [
        {
          "output_type": "stream",
          "text": [
            "epoch 0  | loss: 0.55732 | val_0_mse: 1.0539  |  0:09:11s\n",
            "Stop training because you reached max_epochs = 10 with best_epoch = 9 and best_val_0_mse = 1.03008\n",
            "Best weights from best epoch are automatically used!\n"
          ],
          "name": "stdout"
        }
      ]
    },
    {
      "cell_type": "markdown",
      "metadata": {
        "id": "_AqzcY3Wl-4C"
      },
      "source": [
        "##Спустя несколько эпох, оказалось, что ошибка не убывает значительно, решено было оставить 10-ть эпох"
      ]
    },
    {
      "cell_type": "code",
      "metadata": {
        "id": "iUwxY2y9RHj6"
      },
      "source": [
        "X_test = np.concatenate((\n",
        "    np.load('/content/drive/MyDrive/Colab Notebooks/Pandemic_data_hack/input_test/responsibilities_vectors.npy'),\n",
        "    np.load('/content/drive/MyDrive/Colab Notebooks/Pandemic_data_hack/input_test/industry_label.npy'),\n",
        "    np.load('/content/drive/MyDrive/Colab Notebooks/Pandemic_data_hack/input_test/employement_type_label.npy'),\n",
        "    np.load('/content/drive/MyDrive/Colab Notebooks/Pandemic_data_hack/input_test/education_type_label.npy'),\n",
        "    np.load('/content/drive/MyDrive/Colab Notebooks/Pandemic_data_hack/input_test/cluster_label.npy')\n",
        "), axis=1)"
      ],
      "execution_count": 171,
      "outputs": []
    },
    {
      "cell_type": "code",
      "metadata": {
        "id": "o005vsi-RXt9"
      },
      "source": [
        "preds = clf.predict(X_test)"
      ],
      "execution_count": 172,
      "outputs": []
    },
    {
      "cell_type": "code",
      "metadata": {
        "colab": {
          "base_uri": "https://localhost:8080/"
        },
        "id": "pKNGCJfLZ1ku",
        "outputId": "d50e7c2a-3807-4559-9c40-448880ab02dc"
      },
      "source": [
        "preds"
      ],
      "execution_count": 173,
      "outputs": [
        {
          "output_type": "execute_result",
          "data": {
            "text/plain": [
              "array([[-0.17404644],\n",
              "       [-0.31982848],\n",
              "       [-0.23252247],\n",
              "       ...,\n",
              "       [-0.31982845],\n",
              "       [-0.21896262],\n",
              "       [-0.31982845]], dtype=float32)"
            ]
          },
          "metadata": {
            "tags": []
          },
          "execution_count": 173
        }
      ]
    },
    {
      "cell_type": "code",
      "metadata": {
        "id": "2-tItLBMZgRD"
      },
      "source": [
        "ids = np.load('/content/drive/MyDrive/Colab Notebooks/Pandemic_data_hack/input_test/id_array.npy')"
      ],
      "execution_count": 174,
      "outputs": []
    },
    {
      "cell_type": "code",
      "metadata": {
        "id": "bHP1PnpYa-j4"
      },
      "source": [
        "df = pd.DataFrame(ids, columns=['id'])\n",
        "df['salary'] = preds"
      ],
      "execution_count": 175,
      "outputs": []
    },
    {
      "cell_type": "code",
      "metadata": {
        "id": "vVJN_JzfcLNs"
      },
      "source": [
        "df['salary'] = preds"
      ],
      "execution_count": 176,
      "outputs": []
    },
    {
      "cell_type": "code",
      "metadata": {
        "id": "xXgvvPaFjrOC"
      },
      "source": [
        "df.to_csv('tab_net_salary.csv', sep=',', index=False)"
      ],
      "execution_count": 146,
      "outputs": []
    },
    {
      "cell_type": "code",
      "metadata": {
        "id": "KTqvrbfll76A"
      },
      "source": [
        "orig = np.load('/content/drive/MyDrive/Colab Notebooks/Pandemic_data_hack/input_train/salary_orig.npy')"
      ],
      "execution_count": 177,
      "outputs": []
    },
    {
      "cell_type": "code",
      "metadata": {
        "id": "owXCDrxllKZ1"
      },
      "source": [
        "def get_salary(scaled, orig = orig) -> Optional:\n",
        "    \"\"\"Переводит нормализованное значение зарплаты в реальное\n",
        "    \"\"\"\n",
        "    return (scaled * orig.std(axis=0)) + orig.mean(axis=0)"
      ],
      "execution_count": 178,
      "outputs": []
    },
    {
      "cell_type": "code",
      "metadata": {
        "colab": {
          "base_uri": "https://localhost:8080/"
        },
        "id": "ST45IAZpnPY6",
        "outputId": "64030ef0-f61c-47c6-fa67-61a54802324b"
      },
      "source": [
        "get_salary(df['salary'][3])"
      ],
      "execution_count": 179,
      "outputs": [
        {
          "output_type": "execute_result",
          "data": {
            "text/plain": [
              "33452.69261516679"
            ]
          },
          "metadata": {
            "tags": []
          },
          "execution_count": 179
        }
      ]
    },
    {
      "cell_type": "code",
      "metadata": {
        "id": "W5DzrX_jo4QM"
      },
      "source": [
        "df['salary'] = df['salary'].apply(get_salary)"
      ],
      "execution_count": 180,
      "outputs": []
    },
    {
      "cell_type": "code",
      "metadata": {
        "colab": {
          "base_uri": "https://localhost:8080/",
          "height": 197
        },
        "id": "ZrHyPFq8p7LI",
        "outputId": "7bdbc601-7912-47ee-a789-f85d665ee922"
      },
      "source": [
        "df.head()"
      ],
      "execution_count": 182,
      "outputs": [
        {
          "output_type": "execute_result",
          "data": {
            "text/html": [
              "<div>\n",
              "<style scoped>\n",
              "    .dataframe tbody tr th:only-of-type {\n",
              "        vertical-align: middle;\n",
              "    }\n",
              "\n",
              "    .dataframe tbody tr th {\n",
              "        vertical-align: top;\n",
              "    }\n",
              "\n",
              "    .dataframe thead th {\n",
              "        text-align: right;\n",
              "    }\n",
              "</style>\n",
              "<table border=\"1\" class=\"dataframe\">\n",
              "  <thead>\n",
              "    <tr style=\"text-align: right;\">\n",
              "      <th></th>\n",
              "      <th>id</th>\n",
              "      <th>salary</th>\n",
              "    </tr>\n",
              "  </thead>\n",
              "  <tbody>\n",
              "    <tr>\n",
              "      <th>0</th>\n",
              "      <td>2</td>\n",
              "      <td>34787.244344</td>\n",
              "    </tr>\n",
              "    <tr>\n",
              "      <th>1</th>\n",
              "      <td>6</td>\n",
              "      <td>29632.561369</td>\n",
              "    </tr>\n",
              "    <tr>\n",
              "      <th>2</th>\n",
              "      <td>7</td>\n",
              "      <td>32719.600048</td>\n",
              "    </tr>\n",
              "    <tr>\n",
              "      <th>3</th>\n",
              "      <td>11</td>\n",
              "      <td>33452.692615</td>\n",
              "    </tr>\n",
              "    <tr>\n",
              "      <th>4</th>\n",
              "      <td>16</td>\n",
              "      <td>37023.204494</td>\n",
              "    </tr>\n",
              "  </tbody>\n",
              "</table>\n",
              "</div>"
            ],
            "text/plain": [
              "   id        salary\n",
              "0   2  34787.244344\n",
              "1   6  29632.561369\n",
              "2   7  32719.600048\n",
              "3  11  33452.692615\n",
              "4  16  37023.204494"
            ]
          },
          "metadata": {
            "tags": []
          },
          "execution_count": 182
        }
      ]
    },
    {
      "cell_type": "code",
      "metadata": {
        "id": "AyX3Li6RqUFD"
      },
      "source": [
        "df.to_csv('tab_net-salary_1.csv', sep=',', index=False)"
      ],
      "execution_count": 183,
      "outputs": []
    }
  ]
}