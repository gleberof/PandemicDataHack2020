{
  "nbformat": 4,
  "nbformat_minor": 0,
  "metadata": {
    "colab": {
      "name": "MARS.ipynb\"",
      "provenance": []
    },
    "kernelspec": {
      "name": "python3",
      "display_name": "Python 3"
    },
    "accelerator": "GPU"
  },
  "cells": [
    {
      "cell_type": "markdown",
      "metadata": {
        "id": "AJ7wAxyJiZEE"
      },
      "source": [
        "##Обучение модели MARS"
      ]
    },
    {
      "cell_type": "code",
      "metadata": {
        "colab": {
          "base_uri": "https://localhost:8080/"
        },
        "id": "g0-Qs7evod_b",
        "outputId": "6edbd929-a140-4cc3-dcf4-f6715b48688d"
      },
      "source": [
        "import pandas as pd\n",
        "from google.colab import drive\n",
        "drive.mount('/content/drive')"
      ],
      "execution_count": null,
      "outputs": [
        {
          "output_type": "stream",
          "text": [
            "Mounted at /content/drive\n"
          ],
          "name": "stdout"
        }
      ]
    },
    {
      "cell_type": "code",
      "metadata": {
        "id": "b3pgxKCIFvN7"
      },
      "source": [
        "df = pd.read_csv('/content/drive/MyDrive/Colab Notebooks/Pandemic_data_hack/attempt0_train.csv')"
      ],
      "execution_count": null,
      "outputs": []
    },
    {
      "cell_type": "code",
      "metadata": {
        "id": "iNJNG6uyGZd_"
      },
      "source": [
        "chosen = ['id','education_type','age','experience','salary_desired','relocation_ready','travel_ready','completeness_rate','B',\n",
        "'pos_topic','gender','Вахтовый метод','salary']\n",
        "\n",
        "df_work = df[chosen]"
      ],
      "execution_count": null,
      "outputs": []
    },
    {
      "cell_type": "code",
      "metadata": {
        "id": "FYU7yuvVv0Pf"
      },
      "source": [
        "df.info()"
      ],
      "execution_count": null,
      "outputs": []
    },
    {
      "cell_type": "code",
      "metadata": {
        "colab": {
          "base_uri": "https://localhost:8080/"
        },
        "id": "GXA_BEBwHACZ",
        "outputId": "1a2bfbdb-dc15-4e7f-d043-7087f2fb8be4"
      },
      "source": [
        "!pip install sklearn-contrib-py-earth"
      ],
      "execution_count": null,
      "outputs": [
        {
          "output_type": "stream",
          "text": [
            "Requirement already satisfied: sklearn-contrib-py-earth in /usr/local/lib/python3.6/dist-packages (0.1.0)\n",
            "Requirement already satisfied: scipy>=0.16 in /usr/local/lib/python3.6/dist-packages (from sklearn-contrib-py-earth) (1.4.1)\n",
            "Requirement already satisfied: scikit-learn>=0.16 in /usr/local/lib/python3.6/dist-packages (from sklearn-contrib-py-earth) (0.22.2.post1)\n",
            "Requirement already satisfied: six in /usr/local/lib/python3.6/dist-packages (from sklearn-contrib-py-earth) (1.15.0)\n",
            "Requirement already satisfied: numpy>=1.13.3 in /usr/local/lib/python3.6/dist-packages (from scipy>=0.16->sklearn-contrib-py-earth) (1.19.4)\n",
            "Requirement already satisfied: joblib>=0.11 in /usr/local/lib/python3.6/dist-packages (from scikit-learn>=0.16->sklearn-contrib-py-earth) (1.0.0)\n"
          ],
          "name": "stdout"
        }
      ]
    },
    {
      "cell_type": "code",
      "metadata": {
        "colab": {
          "base_uri": "https://localhost:8080/"
        },
        "id": "Qto86RffHLC3",
        "outputId": "a7cbec86-7011-4774-bed1-d27d3d3bc646"
      },
      "source": [
        "import pyearth\n",
        "# display version\n",
        "print(pyearth.__version__)"
      ],
      "execution_count": null,
      "outputs": [
        {
          "output_type": "stream",
          "text": [
            "0.1.0\n"
          ],
          "name": "stdout"
        }
      ]
    },
    {
      "cell_type": "code",
      "metadata": {
        "id": "6TRzquOYHWPl"
      },
      "source": [
        "model = pyearth.Earth()"
      ],
      "execution_count": null,
      "outputs": []
    },
    {
      "cell_type": "code",
      "metadata": {
        "id": "uAtGNqV9Ho9y"
      },
      "source": [
        "from sklearn.model_selection import RepeatedStratifiedKFold\n",
        "cv = RepeatedStratifiedKFold(n_splits=10, n_repeats=3, random_state=1)"
      ],
      "execution_count": null,
      "outputs": []
    },
    {
      "cell_type": "code",
      "metadata": {
        "id": "Xjg91zeXJBfl"
      },
      "source": [
        "#from sklearn.model_selection import train_test_split\n",
        "\n",
        "chosen_1 = ['id','education_type','age','experience','salary_desired','relocation_ready','travel_ready','completeness_rate','B',\n",
        "'pos_topic','gender','Вахтовый метод']\n",
        "y = df['salary']\n",
        "X = df[chosen]\n",
        "\n",
        "##X_train,X_test,y_train,y_test = train_test_split(X.index,y,test_size=0.2)\n",
        "#X.iloc[X_train]"
      ],
      "execution_count": null,
      "outputs": []
    },
    {
      "cell_type": "code",
      "metadata": {
        "colab": {
          "base_uri": "https://localhost:8080/"
        },
        "id": "xULvS__zwQp4",
        "outputId": "07c6244a-9161-4201-940c-06b5cf8764a1"
      },
      "source": [
        ""
      ],
      "execution_count": null,
      "outputs": [
        {
          "output_type": "execute_result",
          "data": {
            "text/plain": [
              "0         37500\n",
              "1         14000\n",
              "2         24600\n",
              "3         16075\n",
              "4         22080\n",
              "          ...  \n",
              "306265    27600\n",
              "306266    22000\n",
              "306267    97165\n",
              "306268    27600\n",
              "306269    32500\n",
              "Name: salary, Length: 306270, dtype: int64"
            ]
          },
          "metadata": {
            "tags": []
          },
          "execution_count": 57
        }
      ]
    },
    {
      "cell_type": "code",
      "metadata": {
        "colab": {
          "base_uri": "https://localhost:8080/"
        },
        "id": "1cTXXXMOKxKB",
        "outputId": "b4c6ecd4-39a6-4ff2-d143-30642f23aa88"
      },
      "source": [
        "# define the model\n",
        "model = pyearth.Earth()\n",
        "# fit the model on the whole dataset\n",
        "model.fit(X, y)"
      ],
      "execution_count": null,
      "outputs": [
        {
          "output_type": "stream",
          "text": [
            "/usr/local/lib/python3.6/dist-packages/pyearth/earth.py:802: FutureWarning: `rcond` parameter will change to the default of machine precision times ``max(M, N)`` where M and N are the input matrix dimensions.\n",
            "To use the future default and silence this warning we advise to pass `rcond=None`, to keep using the old, explicitly pass `rcond=-1`.\n",
            "  pruning_passer.run()\n",
            "/usr/local/lib/python3.6/dist-packages/pyearth/earth.py:1055: FutureWarning: `rcond` parameter will change to the default of machine precision times ``max(M, N)`` where M and N are the input matrix dimensions.\n",
            "To use the future default and silence this warning we advise to pass `rcond=None`, to keep using the old, explicitly pass `rcond=-1`.\n",
            "  coef, resid = np.linalg.lstsq(B, weighted_y[:, i])[0:2]\n"
          ],
          "name": "stderr"
        },
        {
          "output_type": "execute_result",
          "data": {
            "text/plain": [
              "Earth(allow_linear=None, allow_missing=False, check_every=None,\n",
              "      enable_pruning=True, endspan=None, endspan_alpha=None, fast_K=None,\n",
              "      fast_h=None, feature_importance_type=None, max_degree=None,\n",
              "      max_terms=None, min_search_points=None, minspan=None, minspan_alpha=None,\n",
              "      penalty=None, smooth=None, thresh=None, use_fast=None, verbose=0,\n",
              "      zero_tol=None)"
            ]
          },
          "metadata": {
            "tags": []
          },
          "execution_count": 66
        }
      ]
    },
    {
      "cell_type": "code",
      "metadata": {
        "id": "5Giqg5jRt-D5"
      },
      "source": [
        "from sklearn.model_selection import train_test_split\n",
        "\n",
        "#X_train,X_test,y_train,y_test = train_test_split(X,y,test_size=0.2)"
      ],
      "execution_count": null,
      "outputs": []
    },
    {
      "cell_type": "code",
      "metadata": {
        "id": "SF46jvk8uV8K"
      },
      "source": [
        "from sklearn.metrics import mean_squared_log_error\n",
        "import numpy as np"
      ],
      "execution_count": null,
      "outputs": []
    },
    {
      "cell_type": "code",
      "metadata": {
        "colab": {
          "base_uri": "https://localhost:8080/"
        },
        "id": "nmrdWWeWnA2B",
        "outputId": "8888c53b-6b99-4249-f692-b8fd23e4c144"
      },
      "source": [
        " y_pred = model.predict(X_test)\n",
        " y_pred=np.where(y_pred<0,y_pred.mean(),y_pred)\n",
        " print(\"RLSME: \", mean_squared_log_error(y_test, y_pred))"
      ],
      "execution_count": null,
      "outputs": [
        {
          "output_type": "stream",
          "text": [
            "RLSME:  0.9135549317335048\n"
          ],
          "name": "stdout"
        }
      ]
    },
    {
      "cell_type": "code",
      "metadata": {
        "id": "0fx5jhL7wysG"
      },
      "source": [
        "model.predict(X)"
      ],
      "execution_count": null,
      "outputs": []
    },
    {
      "cell_type": "markdown",
      "metadata": {
        "id": "vhqUp_8CytyU"
      },
      "source": [
        "###Марс - предсказание на тестовых данных"
      ]
    },
    {
      "cell_type": "code",
      "metadata": {
        "colab": {
          "base_uri": "https://localhost:8080/"
        },
        "id": "a6JJf2YI1lqo",
        "outputId": "9812e3dd-bda9-4469-95de-1612d78205a1"
      },
      "source": [
        "df = pd.read_csv('/content/drive/MyDrive/Colab Notebooks/Pandemic_data_hack/attempt0_train.csv')\n",
        "chosen = ['education_type','age','experience','salary_desired','relocation_ready','travel_ready','completeness_rate','B',\n",
        "'pos_topic','gender','Вахтовый метод','salary']\n",
        "\n",
        "df_work = df[chosen]\n",
        "\n",
        "y = df['salary']\n",
        "X = df[chosen]\n",
        "X=X.drop(columns='salary')\n",
        "\n",
        "# define the model\n",
        "model = pyearth.Earth()\n",
        "# fit the model on the whole dataset\n",
        "model.fit(X, y)"
      ],
      "execution_count": null,
      "outputs": [
        {
          "output_type": "stream",
          "text": [
            "/usr/local/lib/python3.6/dist-packages/pyearth/earth.py:802: FutureWarning: `rcond` parameter will change to the default of machine precision times ``max(M, N)`` where M and N are the input matrix dimensions.\n",
            "To use the future default and silence this warning we advise to pass `rcond=None`, to keep using the old, explicitly pass `rcond=-1`.\n",
            "  pruning_passer.run()\n",
            "/usr/local/lib/python3.6/dist-packages/pyearth/earth.py:1055: FutureWarning: `rcond` parameter will change to the default of machine precision times ``max(M, N)`` where M and N are the input matrix dimensions.\n",
            "To use the future default and silence this warning we advise to pass `rcond=None`, to keep using the old, explicitly pass `rcond=-1`.\n",
            "  coef, resid = np.linalg.lstsq(B, weighted_y[:, i])[0:2]\n"
          ],
          "name": "stderr"
        },
        {
          "output_type": "execute_result",
          "data": {
            "text/plain": [
              "Earth(allow_linear=None, allow_missing=False, check_every=None,\n",
              "      enable_pruning=True, endspan=None, endspan_alpha=None, fast_K=None,\n",
              "      fast_h=None, feature_importance_type=None, max_degree=None,\n",
              "      max_terms=None, min_search_points=None, minspan=None, minspan_alpha=None,\n",
              "      penalty=None, smooth=None, thresh=None, use_fast=None, verbose=0,\n",
              "      zero_tol=None)"
            ]
          },
          "metadata": {
            "tags": []
          },
          "execution_count": 94
        }
      ]
    },
    {
      "cell_type": "code",
      "metadata": {
        "id": "xu1sxLZhyqu1"
      },
      "source": [
        "df_test = pd.read_csv('/content/drive/MyDrive/Colab Notebooks/Pandemic_data_hack/attempt1_test.csv')"
      ],
      "execution_count": null,
      "outputs": []
    },
    {
      "cell_type": "code",
      "metadata": {
        "id": "CF7LGeB_zA8B"
      },
      "source": [
        "chosen_1 = ['education_type','age','experience','salary_desired','relocation_ready','travel_ready','completeness_rate','B',\n",
        "'pos_topic','gender','Вахтовый метод']\n",
        "\n",
        "X_test = df[chosen_1]"
      ],
      "execution_count": null,
      "outputs": []
    },
    {
      "cell_type": "code",
      "metadata": {
        "id": "duGguhcvzW9F"
      },
      "source": [
        "y_pred = model.predict(X_test)"
      ],
      "execution_count": null,
      "outputs": []
    },
    {
      "cell_type": "code",
      "metadata": {
        "colab": {
          "base_uri": "https://localhost:8080/",
          "height": 197
        },
        "id": "M10GY-Xh0H8g",
        "outputId": "ef627b66-c59c-4fe3-a73e-227a532a2194"
      },
      "source": [
        "solution = df_test[['id']].copy()\n",
        "solution['salary'] = pd.Series(y_pred)\n",
        "solution.head()"
      ],
      "execution_count": null,
      "outputs": [
        {
          "output_type": "execute_result",
          "data": {
            "text/html": [
              "<div>\n",
              "<style scoped>\n",
              "    .dataframe tbody tr th:only-of-type {\n",
              "        vertical-align: middle;\n",
              "    }\n",
              "\n",
              "    .dataframe tbody tr th {\n",
              "        vertical-align: top;\n",
              "    }\n",
              "\n",
              "    .dataframe thead th {\n",
              "        text-align: right;\n",
              "    }\n",
              "</style>\n",
              "<table border=\"1\" class=\"dataframe\">\n",
              "  <thead>\n",
              "    <tr style=\"text-align: right;\">\n",
              "      <th></th>\n",
              "      <th>id</th>\n",
              "      <th>salary</th>\n",
              "    </tr>\n",
              "  </thead>\n",
              "  <tbody>\n",
              "    <tr>\n",
              "      <th>0</th>\n",
              "      <td>2</td>\n",
              "      <td>45835.721498</td>\n",
              "    </tr>\n",
              "    <tr>\n",
              "      <th>1</th>\n",
              "      <td>6</td>\n",
              "      <td>30757.551773</td>\n",
              "    </tr>\n",
              "    <tr>\n",
              "      <th>2</th>\n",
              "      <td>7</td>\n",
              "      <td>31165.646107</td>\n",
              "    </tr>\n",
              "    <tr>\n",
              "      <th>3</th>\n",
              "      <td>11</td>\n",
              "      <td>38771.811381</td>\n",
              "    </tr>\n",
              "    <tr>\n",
              "      <th>4</th>\n",
              "      <td>16</td>\n",
              "      <td>36727.452174</td>\n",
              "    </tr>\n",
              "  </tbody>\n",
              "</table>\n",
              "</div>"
            ],
            "text/plain": [
              "   id        salary\n",
              "0   2  45835.721498\n",
              "1   6  30757.551773\n",
              "2   7  31165.646107\n",
              "3  11  38771.811381\n",
              "4  16  36727.452174"
            ]
          },
          "metadata": {
            "tags": []
          },
          "execution_count": 100
        }
      ]
    },
    {
      "cell_type": "code",
      "metadata": {
        "id": "uLu6qUBX3MNl"
      },
      "source": [
        "solution.to_csv('my_solution1_MARS_11.csv', index=False, sep=',')"
      ],
      "execution_count": null,
      "outputs": []
    }
  ]
}